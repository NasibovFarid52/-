{
  "nbformat": 4,
  "nbformat_minor": 0,
  "metadata": {
    "colab": {
      "provenance": []
    },
    "kernelspec": {
      "name": "python3",
      "display_name": "Python 3"
    },
    "language_info": {
      "name": "python"
    }
  },
  "cells": [
    {
      "cell_type": "markdown",
      "source": [
        "**ФИО:**"
      ],
      "metadata": {
        "id": "GEsFKJm-ABFp"
      }
    },
    {
      "cell_type": "code",
      "execution_count": null,
      "metadata": {
        "id": "wZMLYG_G_-19"
      },
      "outputs": [],
      "source": [
        "Насибов Фарид"
      ]
    },
    {
      "cell_type": "markdown",
      "source": [
        "# Задание 1"
      ],
      "metadata": {
        "id": "H4DrYnJjADuZ"
      }
    },
    {
      "cell_type": "markdown",
      "source": [
        "**Описание:** Создайте иерархию классов для разных типов сотрудников в компании. Реализуйте родительский класс Employee и дочерние классы Manager и Developer. Каждый класс должен иметь метод для расчета зарплаты на основе различных критериев класса.\n",
        "\n",
        "\n",
        "Отрабатываемый принцип: Наследование\n",
        "\n"
      ],
      "metadata": {
        "id": "C17FWep-AF4a"
      }
    },
    {
      "cell_type": "code",
      "source": [
        "class Employee:\n",
        "\n",
        "\n",
        "  def __init__(self, name, salary):\n",
        "    self.name = name\n",
        "    self.salary = salary\n",
        "\n",
        "\n",
        "  def calc_salary(self):\n",
        "    return self.salary\n",
        "\n",
        "\n",
        "class Manager(Employee):\n",
        "\n",
        "\n",
        "  def __init__(self, name, salary, bonus_people):\n",
        "    super().__init__(name, salary)\n",
        "    self.bonus_people = bonus_people\n",
        "    self.famous_bonus = 5000\n",
        "\n",
        "\n",
        "  def calc_salary(self):\n",
        "    bonus = self.bonus_people * self.famous_bonus\n",
        "    return self.salary + bonus\n",
        "\n",
        "\n",
        "class Developer(Employee):\n",
        "\n",
        "\n",
        "  def __init__(self, name, salary, project_end):\n",
        "    super().__init__(name, salary)\n",
        "    self.project_end = project_end\n",
        "    self.project_bonus = 1000\n",
        "\n",
        "\n",
        "  def calc_salary(self):\n",
        "    bonus = self.project_bonus * self.project_end\n",
        "    return self.salary + bonus\n",
        "\n",
        "\n",
        "manager = Manager(\"Harry Potter\", 850, 2)\n",
        "developer = Developer(\"Peter Parker\", 1200, 3)\n",
        "\n",
        "\n",
        "print(f\"Зарплата менеджера: {manager.calc_salary()}$\")\n",
        "print(f\"Зарплата разработчика: {developer.calc_salary()}$\")\n"
      ],
      "metadata": {
        "id": "aexGXzqCAFH7",
        "colab": {
          "base_uri": "https://localhost:8080/"
        },
        "outputId": "a6466b0d-e2d9-4343-887b-79af9fef5b5e"
      },
      "execution_count": null,
      "outputs": [
        {
          "output_type": "stream",
          "name": "stdout",
          "text": [
            "Зарплата менеджера: 10850$\n",
            "Зарплата разработчика: 4200$\n"
          ]
        }
      ]
    },
    {
      "cell_type": "markdown",
      "source": [
        "# Задание 2"
      ],
      "metadata": {
        "id": "ERAi0TG5BI6v"
      }
    },
    {
      "cell_type": "markdown",
      "source": [
        "**Описание:** Создайте иерархию классов для различных типов транспортных средств (Необходим один родительский класс и 3 дочерних). Реализуйте метод, который позволяет каждому транспортному средству возвращать собственное описание (Метод в каждом классе должен иметь одинаковое название). Продемонстрируйте вызов данного метода для каждого транспортного средства.\n",
        "\n",
        "\n",
        "Отрабатываемый принцип: Полиморфизм"
      ],
      "metadata": {
        "id": "sJ3k7ZcgBK87"
      }
    },
    {
      "cell_type": "code",
      "source": [
        "class Vehicle:\n",
        "\n",
        "\n",
        "    def describe(self):\n",
        "        print(\"Это транспортное средство.\")\n",
        "\n",
        "\n",
        "class Car(Vehicle):\n",
        "\n",
        "\n",
        "    def describe(self):\n",
        "        print(\"Это автомобиль.\")\n",
        "\n",
        "\n",
        "class Bicycle(Vehicle):\n",
        "\n",
        "\n",
        "    def describe(self):\n",
        "       print(\"Это велосипед.\")\n",
        "\n",
        "\n",
        "class Ship(Vehicle):\n",
        "\n",
        "\n",
        "    def describe(self):\n",
        "        print(\"Это корабль.\")\n",
        "\n",
        "\n",
        "my_car = Car()\n",
        "my_bike = Bicycle()\n",
        "my_ship = Ship()\n",
        "\n",
        "my_car.describe()\n",
        "my_bike.describe()\n",
        "my_ship.describe()\n",
        "\n"
      ],
      "metadata": {
        "id": "WOFOZQmDBKf4",
        "colab": {
          "base_uri": "https://localhost:8080/"
        },
        "outputId": "e426b3f6-4283-46a2-abad-accc6e395ccb"
      },
      "execution_count": null,
      "outputs": [
        {
          "output_type": "stream",
          "name": "stdout",
          "text": [
            "Это автомобиль.\n",
            "Это велосипед.\n",
            "Это корабль.\n"
          ]
        }
      ]
    },
    {
      "cell_type": "markdown",
      "source": [
        "# Задание 3"
      ],
      "metadata": {
        "id": "7E_SJXMJBvD4"
      }
    },
    {
      "cell_type": "markdown",
      "source": [
        "Онлайн-магазин:\n",
        "- Создайте модель для онлайн-магазина с классами Product, Order, Customer, и ShoppingCart.\n",
        "- Product включает информацию о цене, наличии на складе и категории товара.\n",
        "Order обрабатывает процесс покупки, включая расчет цены с учетом скидок и налогов.\n",
        "- Customer управляет информацией о пользователе и его истории заказов.\n",
        "- ShoppingCart позволяет добавлять, удалять и обновлять количество товаров перед оформлением заказа.\n"
      ],
      "metadata": {
        "id": "dd1mwKj_BxHa"
      }
    },
    {
      "cell_type": "code",
      "source": [
        "class Product:\n",
        "  def __init__(self, price, availability, categories):\n",
        "    self.price = price\n",
        "    self.availability = availability\n",
        "    self.categories = categories\n",
        "\n",
        "\n",
        "class Order:\n",
        "\n",
        "\n",
        "\n",
        "class Customer:\n",
        "\n",
        "\n",
        "\n",
        "class ShoppingCart:"
      ],
      "metadata": {
        "id": "wkCcv_K-Bwdv"
      },
      "execution_count": null,
      "outputs": []
    },
    {
      "cell_type": "markdown",
      "source": [
        "# Задание 4"
      ],
      "metadata": {
        "id": "ih7iPlYfB7lL"
      }
    },
    {
      "cell_type": "markdown",
      "source": [
        "Симулятор космического корабля:\n",
        "- Создайте симулятор управления космическим кораблем с классами SpaceShip, CrewMember, и Mission.\n",
        "- SpaceShip имеет атрибуты для управления топливом, состоянием корпуса, и текущей скоростью.\n",
        "- CrewMember контролирует здоровье, навыки, и роли в команде (например, пилот, инженер).\n",
        "- Mission определяет цели, ресурсы, и возможные события (например, аварии, встречи с астероидами)."
      ],
      "metadata": {
        "id": "zLwqVCbpCBvc"
      }
    },
    {
      "cell_type": "code",
      "source": [
        "import random\n",
        "\n",
        "class SpaceShip:\n",
        "\n",
        "\n",
        "    def __init__(self, name, fuel, hull_integrity, speed):\n",
        "        self.name = name\n",
        "        self.fuel = fuel\n",
        "        self.hull_integrity = hull_integrity\n",
        "        self.speed = speed\n",
        "\n",
        "\n",
        "    def status(self):\n",
        "        print(f\"Корабль {self.name}: Топливо: {self.fuel} литров, Целостность корпуса: {self.hull_integrity}%, Скорость: {self.speed} км/с\")\n",
        "\n",
        "\n",
        "    def refuel(self, amount):\n",
        "        self.fuel += amount\n",
        "        print(f\"Корабль заправлен на {amount} литров.\")\n",
        "\n",
        "\n",
        "    def repair(self, amount):\n",
        "        self.hull_integrity = min(100, self.hull_integrity + amount)\n",
        "        print(f\"Целостность корпуса восстановлена на {amount}%.\")\n",
        "\n",
        "\n",
        "    def accelerate(self, increment):\n",
        "        if self.fuel > 0:\n",
        "            self.speed += increment\n",
        "            self.fuel -= increment * 0.5\n",
        "            print(f\"Скорость увеличена на {increment} км/с.\")\n",
        "        else:\n",
        "            print(\"Нет топлива для ускорения.\")\n",
        "\n",
        "\n",
        "    def decelerate(self, decrement):\n",
        "        if self.speed >= decrement:\n",
        "            self.speed -= decrement\n",
        "            print(f\"Скорость уменьшена на {decrement} км/с.\")\n",
        "        else:\n",
        "            print(\"Не можно уменьшить скорость ниже нуля.\")\n",
        "\n",
        "\n",
        "class CrewMember:\n",
        "\n",
        "\n",
        "    def __init__(self, name, role, health, skills):\n",
        "        self.name = name\n",
        "        self.role = role\n",
        "        self.health = health\n",
        "        self.skills = skills\n",
        "\n",
        "\n",
        "    def check_health(self):\n",
        "        print(f\"{self.name} ({self.role}): Здоровье {self.health}%.\")\n",
        "\n",
        "\n",
        "    def heal(self, amount):\n",
        "        self.health = min(100, self.health + amount)\n",
        "        print(f\"{self.name} был вылечен на {amount}%.\")\n",
        "\n",
        "\n",
        "    def upgrade_skill(self, skill, amount):\n",
        "        if skill in self.skills:\n",
        "            self.skills[skill] = min(100, self.skills[skill] + amount)\n",
        "            print(f\"Навык {skill} у {self.name} улучшен на {amount}%.\")\n",
        "        else:\n",
        "            print(f\"{skill} не найден у {self.name}.\")\n",
        "\n",
        "\n",
        "class Mission:\n",
        "\n",
        "\n",
        "    def __init__(self, mission_name, objectives, resources):\n",
        "        self.mission_name = mission_name\n",
        "        self.objectives = objectives\n",
        "        self.resources = resources\n",
        "        self.events = [\"Авария двигателя\", \"Встреча с астероидом\", \"Гравитационная аномалия\"]\n",
        "\n",
        "\n",
        "    def start(self):\n",
        "        print(f\"Миссия '{self.mission_name}' началась!\")\n",
        "        print(f\"Цели миссии: {', '.join(self.objectives)}\")\n",
        "        print(f\"Ресурсы: {self.resources}\")\n",
        "\n",
        "\n",
        "    def generate_event(self):\n",
        "        self.current_event = random.choice(self.events)\n",
        "        print(f\"Событие: {self.current_event}\")\n",
        "\n",
        "\n",
        "    def resolve_event(self, crew_members, spaceship):\n",
        "        if self.current_event == \"Авария двигателя\":\n",
        "            spaceship.repair(-20)\n",
        "            print(\"Произошла авария двигателя! Нужно починить корабль.\")\n",
        "        elif self.current_event == \"Встреча с астероидом\":\n",
        "            spaceship.hull_integrity -= 10\n",
        "            print(\"Корабль столкнулся с астероидом!\")\n",
        "        elif self.current_event == \"Гравитационная аномалия\":\n",
        "            spaceship.speed *= 0.8\n",
        "            print(\"Гравитационная аномалия! Скорость уменьшена.\")\n",
        "\n",
        "\n",
        "if 1 == 1:\n",
        "    spaceship = SpaceShip(name=\"Галактический исследователь\", fuel=500, hull_integrity=100, speed=10)\n",
        "\n",
        "    pilot = CrewMember(name=\"Фарид\", role=\"Пилот\", health=100, skills={\"Пилот\": 80, \"Ремонт\": 60})\n",
        "    engineer = CrewMember(name=\"Вадим\", role=\"Инженер\", health=85, skills={\"Ремонт\": 90})\n",
        "\n",
        "    mission = Mission(mission_name=\"Исследование Марса\", objectives=[\"Исследовать Марс\", \"Проверить ресурсы\"], resources={\"топливо\": 1000, \"единицы пищи\": 500})\n",
        "\n",
        "    mission.start()\n",
        "\n",
        "    spaceship.status()\n",
        "    mission.generate_event()\n",
        "    mission.resolve_event([pilot, engineer], spaceship)\n",
        "    spaceship.status()\n",
        "\n",
        "    pilot.upgrade_skill(\"Пилот\", 10)\n",
        "    engineer.heal(15)\n",
        "\n",
        "    pilot.check_health()\n",
        "    engineer.check_health()\n"
      ],
      "metadata": {
        "id": "4NyrOOy8B9ED",
        "colab": {
          "base_uri": "https://localhost:8080/"
        },
        "outputId": "a0e36b49-70e3-49f0-e23b-ebd78301168e"
      },
      "execution_count": null,
      "outputs": [
        {
          "output_type": "stream",
          "name": "stdout",
          "text": [
            "Миссия 'Исследование Марса' началась!\n",
            "Цели миссии: Исследовать Марс, Проверить ресурсы\n",
            "Ресурсы: {'топливо': 1000, 'единицы пищи': 500}\n",
            "Корабль Галактический исследователь: Топливо: 500 литров, Целостность корпуса: 100%, Скорость: 10 км/с\n",
            "Событие: Гравитационная аномалия\n",
            "Гравитационная аномалия! Скорость уменьшена.\n",
            "Корабль Галактический исследователь: Топливо: 500 литров, Целостность корпуса: 100%, Скорость: 8.0 км/с\n",
            "Навык Пилот у Фарид улучшен на 10%.\n",
            "Вадим был вылечен на 15%.\n",
            "Фарид (Пилот): Здоровье 100%.\n",
            "Вадим (Инженер): Здоровье 100%.\n"
          ]
        }
      ]
    },
    {
      "cell_type": "markdown",
      "source": [
        "# Дополнительно:"
      ],
      "metadata": {
        "id": "F7mRVsZjCXk0"
      }
    },
    {
      "cell_type": "markdown",
      "source": [
        "**Описание:** создайте консольную версию игры крестики-нолики, используя классы"
      ],
      "metadata": {
        "id": "X4Lkf86UCc1h"
      }
    },
    {
      "cell_type": "code",
      "source": [],
      "metadata": {
        "id": "x9OxpNsyCcUo"
      },
      "execution_count": null,
      "outputs": []
    }
  ]
}