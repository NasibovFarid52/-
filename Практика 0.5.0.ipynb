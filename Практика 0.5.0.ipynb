{
  "nbformat": 4,
  "nbformat_minor": 0,
  "metadata": {
    "colab": {
      "provenance": []
    },
    "kernelspec": {
      "name": "python3",
      "display_name": "Python 3"
    },
    "language_info": {
      "name": "python"
    }
  },
  "cells": [
    {
      "cell_type": "markdown",
      "source": [
        "\n",
        "\n",
        "```\n",
        "# Выбран кодовый формат\n",
        "```\n",
        "\n",
        "*ФИО*: Насибов Фарид\n"
      ],
      "metadata": {
        "id": "Bu5gIJfHNPHw"
      }
    },
    {
      "cell_type": "code",
      "execution_count": null,
      "metadata": {
        "id": "CbHI8c7cM9Eg"
      },
      "outputs": [],
      "source": []
    },
    {
      "cell_type": "markdown",
      "source": [
        "# **Задание 1**"
      ],
      "metadata": {
        "id": "VrNrBpmocGRd"
      }
    },
    {
      "cell_type": "markdown",
      "source": [
        "\n",
        "\n",
        "Дан словарь, содержащий имена и возраст людей, напишите программу выводящую возраст человека по имени\n",
        "\n",
        "Дано:\n",
        "\n",
        "```\n",
        "{\"Alice\": 25, \"Bob\": 30, \"Charlie\": 35}\n",
        "```\n",
        "\n",
        "Вввод:\n",
        "\n",
        "\n",
        "```\n",
        "Alice\n",
        "```\n",
        "\n",
        "Вывод:\n",
        "\n",
        "\n",
        "```\n",
        "Alice 25\n",
        "```\n"
      ],
      "metadata": {
        "id": "XhV1bnm1bR2h"
      }
    },
    {
      "cell_type": "code",
      "source": [
        "people = {\"Alice\": 25, \"Bob\": 30, \"Charlie\": 35}\n",
        "\n",
        "name = input('Введите имя Alice или Bob или Charlie - ')\n",
        "\n",
        "for names, age in people.items():\n",
        "  if name == names:\n",
        "    print(names,age)\n",
        "\n",
        "\n"
      ],
      "metadata": {
        "id": "PElJj6DvsgjD",
        "colab": {
          "base_uri": "https://localhost:8080/"
        },
        "outputId": "65735743-5c55-41c3-ce6e-c17e3b8ff00f"
      },
      "execution_count": null,
      "outputs": [
        {
          "output_type": "stream",
          "name": "stdout",
          "text": [
            "Введите имя Alice или Bob или Charlie - Alice\n",
            "Alice 25\n"
          ]
        }
      ]
    },
    {
      "cell_type": "markdown",
      "source": [
        "# **Задание 2**\n"
      ],
      "metadata": {
        "id": "lpjJz-_YcJ-t"
      }
    },
    {
      "cell_type": "markdown",
      "source": [
        "\n",
        "\n",
        "Дан список, состоящий из целых чисел, необходимо написать функцию считающую сумму всех положительных четных чисел списка\n",
        "\n",
        "Ввод:\n",
        "\n",
        "```\n",
        "1, 2, 3, 4, 5, 6, 7, 8, 9\n",
        "```\n",
        "\n",
        "Вывод:\n",
        "\n",
        "\n",
        "```\n",
        "20\n",
        "```\n",
        "\n",
        "***Запрещено:***\n",
        "\n",
        "*   Использование готовых функций для суммирования чисел\n"
      ],
      "metadata": {
        "id": "tMEsAB4rUiWW"
      }
    },
    {
      "cell_type": "code",
      "source": [
        "def summ(numbers):\n",
        "  count = 0\n",
        "  for x in numbers:\n",
        "    if x % 2 == 0 and x > 0:\n",
        "      count += x\n",
        "  return count\n",
        "\n",
        "numbers = [1, 2, 3, 4, 5, 6, 7, 8, 9]\n",
        "print(summ(numbers))"
      ],
      "metadata": {
        "colab": {
          "base_uri": "https://localhost:8080/"
        },
        "outputId": "7483f613-1945-4add-9513-d5bba49a33d3",
        "id": "LuVCKIhoWaC7"
      },
      "execution_count": null,
      "outputs": [
        {
          "output_type": "stream",
          "name": "stdout",
          "text": [
            "20\n"
          ]
        }
      ]
    },
    {
      "cell_type": "markdown",
      "source": [
        "# **Задание 3**"
      ],
      "metadata": {
        "id": "WT_v-vz1dUZJ"
      }
    },
    {
      "cell_type": "markdown",
      "source": [
        "Дан словарь, содержащий название фрукта и его цвет, выведите список всех желтых фруктов\n",
        "\n",
        "\n",
        "Дано:\n",
        "\n",
        "```\n",
        "fruits_and_colors = {\n",
        "    \"apple\": \"red\",\n",
        "    \"banana\": \"yellow\",\n",
        "    \"mango\": \"yellow\",\n",
        "    \"orange\": \"orange\",\n",
        "    \"lemon\": \"yellow\",\n",
        "    \"grape\": \"purple\"\n",
        "}\n",
        "```\n",
        "\n",
        "Вывод:\n",
        "\n",
        "\n",
        "```\n",
        "Yellow fruits:\n",
        "banana\n",
        "lemon\n",
        "mango\n",
        "```\n",
        "\n"
      ],
      "metadata": {
        "id": "ZI5Xeh2DdXgF"
      }
    },
    {
      "cell_type": "code",
      "source": [
        "fruits_and_colors = {\n",
        "    \"apple\": \"red\",\n",
        "    \"banana\": \"yellow\",\n",
        "    \"mango\": \"yellow\",\n",
        "    \"orange\": \"orange\",\n",
        "    \"lemon\": \"yellow\",\n",
        "    \"grape\": \"purple\"\n",
        "}\n",
        "for fruits, yellows in fruits_and_colors.items():\n",
        "  if yellows == 'yellow':\n",
        "    print('Yellow fruits:',fruits)"
      ],
      "metadata": {
        "id": "aNzFTkhKdkTG",
        "colab": {
          "base_uri": "https://localhost:8080/"
        },
        "outputId": "29e0b14b-48c2-4717-c239-6200d4a69764"
      },
      "execution_count": null,
      "outputs": [
        {
          "output_type": "stream",
          "name": "stdout",
          "text": [
            "Yellow fruits: banana\n",
            "Yellow fruits: mango\n",
            "Yellow fruits: lemon\n"
          ]
        }
      ]
    },
    {
      "cell_type": "markdown",
      "source": [
        "# **Задание 4**\n"
      ],
      "metadata": {
        "id": "iHtMGt2icM7w"
      }
    },
    {
      "cell_type": "markdown",
      "source": [
        "\n",
        "\n",
        "Дан словарь, необходимо написать функцию меняющую ключ и значение местами\n",
        "\n",
        "Дано:\n",
        "\n",
        "\n",
        "```\n",
        "{\"a\": 1, \"b\": 2, \"c\": 3}\n",
        "```\n",
        "\n",
        "Вывод:\n",
        "\n",
        "```\n",
        "{1: 'a', 2: 'b', 3: 'c'}\n",
        "```\n",
        "\n"
      ],
      "metadata": {
        "id": "rS3THsnBQ_EB"
      }
    },
    {
      "cell_type": "code",
      "source": [
        "def swap(slov):\n",
        "  swapped_dict = {}\n",
        "  for k,v in slov.items():\n",
        "    swapped_dict[v] = k\n",
        "  return swapped_dict\n",
        "\n",
        "slov = {\"a\": 1, \"b\": 2, \"c\": 3}\n",
        "print(swap(slov))"
      ],
      "metadata": {
        "id": "MNRusyLDcQ59",
        "colab": {
          "base_uri": "https://localhost:8080/"
        },
        "outputId": "3c618e9e-da21-41bf-f705-00b42c4e6bb7"
      },
      "execution_count": null,
      "outputs": [
        {
          "output_type": "stream",
          "name": "stdout",
          "text": [
            "{1: 'a', 2: 'b', 3: 'c'}\n"
          ]
        }
      ]
    },
    {
      "cell_type": "markdown",
      "source": [
        "# **Задание 5**"
      ],
      "metadata": {
        "id": "x6ff5nd0cUxD"
      }
    },
    {
      "cell_type": "markdown",
      "source": [
        "Дан список слов, неограниченной длинны, сформируйте словарь, где в качестве ключа будет слово, а в качестве значения количество слов\n",
        "\n",
        "**Критерии**\n",
        "\n",
        "\n",
        "*   Словарь необходимо отсортировать по убыванию количества элементов в списке.\n",
        "*   Подсчет элементов должен быть реализован в отдельной функции\n",
        "*   Сортировка пары `ключ:значение` должна быть реализована также в виде отдельной функции\n",
        "\n",
        "\n",
        "\n",
        "\n",
        "Дано:\n",
        "```\n",
        "['apple','banana','orange','apple','apple','banana']\n",
        "```\n",
        "\n",
        "\n",
        "Вывод:\n",
        "```\n",
        "{'apple':3, 'banana': 2, 'orange': 1}\n",
        "```\n",
        "\n",
        "***Запрещено:***\n",
        "\n",
        "*   Использование готовых функций для сортировки\n",
        "*   Использование готовых функций для подсчета элементов\n",
        "\n"
      ],
      "metadata": {
        "id": "ypQNHOG4NQz3"
      }
    },
    {
      "cell_type": "code",
      "source": [
        "def count_words(words):\n",
        "    word_count = {}\n",
        "    for word in words:\n",
        "        if word in word_count:\n",
        "            word_count[word] += 1\n",
        "        else:\n",
        "            word_count[word] = 1\n",
        "    return word_count\n",
        "\n",
        "\n",
        "def sort(word_count):\n",
        "    sort_dict = {}\n",
        "    while word_count:\n",
        "        max_key = None\n",
        "        for key in word_count:\n",
        "            if max_key is None or word_count[key] > word_count[max_key]:\n",
        "                max_key = key\n",
        "        sort_dict[max_key] = word_count[max_key]\n",
        "        del word_count[max_key]\n",
        "    return sort_dict\n",
        "\n",
        "\n",
        "words = ['apple', 'banana', 'orange', 'apple', 'apple', 'banana']\n",
        "word_count = count_words(words)\n",
        "sort_word_count = sort(word_count)\n",
        "print(sort_word_count)\n"
      ],
      "metadata": {
        "id": "J10PjdVQUbyq",
        "colab": {
          "base_uri": "https://localhost:8080/"
        },
        "outputId": "5c32e3f3-ab76-43a8-8fe0-b1d1e0e915cf"
      },
      "execution_count": null,
      "outputs": [
        {
          "output_type": "stream",
          "name": "stdout",
          "text": [
            "{'apple': 3, 'banana': 2, 'orange': 1}\n"
          ]
        }
      ]
    },
    {
      "cell_type": "markdown",
      "source": [
        "# **Задание 6**"
      ],
      "metadata": {
        "id": "d7fDUr2WcY_G"
      }
    },
    {
      "cell_type": "markdown",
      "source": [
        "Дан словарь, содержащий информацию о людях, необходимо:\n",
        "\n",
        "\n",
        "\n",
        "*   Вывести всех людей старше 30 лет\n",
        "*   Вывести список городов и количество людей из словаря проживающих в них\n",
        "*   Вывести список профессий и список людей для каждой профессии\n",
        "\n",
        "**Критерии**\n",
        "\n",
        "Каждый из пунктов необходимо реализовать в виде функции\n",
        "\n"
      ],
      "metadata": {
        "id": "m11qdVhSWBi7"
      }
    },
    {
      "cell_type": "code",
      "source": [
        "def find_people_older_than(people_info, age_limit):\n",
        "    result = {}\n",
        "    for name, info in people_info.items():\n",
        "        if info['age'] > age_limit:\n",
        "            result[name] = info\n",
        "    return result\n",
        "\n",
        "\n",
        "def count_people_by_city(people_info):\n",
        "    city_count = {}\n",
        "    for info in people_info.values():\n",
        "        city = info['city']\n",
        "        if city in city_count:\n",
        "            city_count[city] += 1\n",
        "        else:\n",
        "            city_count[city] = 1\n",
        "    return city_count\n",
        "\n",
        "\n",
        "def people_occupation(people_info):\n",
        "    occupation_dict = {}\n",
        "    for name, info in people_info.items():\n",
        "        occupation = info['occupation']\n",
        "        if occupation in occupation_dict:\n",
        "            occupation_dict[occupation].append(name)\n",
        "        else:\n",
        "            occupation_dict[occupation] = [name]\n",
        "    return occupation_dict\n",
        "\n",
        "\n",
        "people_info = {\n",
        "    \"Alice\": {\"age\": 25, \"city\": \"New York\", \"occupation\": \"Engineer\"},\n",
        "    \"Bob\": {\"age\": 30, \"city\": \"Los Angeles\", \"occupation\": \"Designer\"},\n",
        "    \"Charlie\": {\"age\": 35, \"city\": \"Chicago\", \"occupation\": \"Teacher\"},\n",
        "    \"Diana\": {\"age\": 28, \"city\": \"Miami\", \"occupation\": \"Doctor\"},\n",
        "    \"Ethan\": {\"age\": 40, \"city\": \"Seattle\", \"occupation\": \"Chef\"},\n",
        "    \"Frank\": {\"age\": 32, \"city\": \"Atlanta\", \"occupation\": \"Lawyer\"},\n",
        "    \"Gabriella\": {\"age\": 29, \"city\": \"San Francisco\", \"occupation\": \"Software Engineer\"},\n",
        "    \"Harrison\": {\"age\": 38, \"city\": \"Denver\", \"occupation\": \"Architect\"},\n",
        "    \"Isabella\": {\"age\": 26, \"city\": \"Washington D.C.\", \"occupation\": \"Journalist\"},\n",
        "    \"Julian\": {\"age\": 42, \"city\": \"Miami\", \"occupation\": \"Musician\"},\n",
        "    \"Kate\": {\"age\": 31, \"city\": \"Philadelphia\", \"occupation\": \"Nurse\"},\n",
        "    \"Lucas\": {\"age\": 36, \"city\": \"Nashville\", \"occupation\": \"Businessman\"},\n",
        "    \"Mia\": {\"age\": 27, \"city\": \"Atlanta\", \"occupation\": \"Artist\"},\n",
        "    \"Natalie\": {\"age\": 39, \"city\": \"Portland\", \"occupation\": \"Writer\"},\n",
        "    \"Oliver\": {\"age\": 44, \"city\": \"Minneapolis\", \"occupation\": \"Professor\"},\n",
        "    \"Penelope\": {\"age\": 33, \"city\": \"San Diego\", \"occupation\": \"Marketing Manager\"},\n",
        "    \"Quincy\": {\"age\": 41, \"city\": \"Nashville\", \"occupation\": \"Singer\"},\n",
        "    \"Rachel\": {\"age\": 34, \"city\": \"Cleveland\", \"occupation\": \"Teacher\"},\n",
        "    \"Sophia\": {\"age\": 29, \"city\": \"Nashville\", \"occupation\": \"Engineer\"},\n",
        "    \"Tessa\": {\"age\": 37, \"city\": \"Miami\", \"occupation\": \"Lawyer\"}\n",
        "}\n",
        "\n",
        "\n",
        "older_than_30 = find_people_older_than(people_info, 30)\n",
        "print(\"Люди старше 30 лет:\", older_than_30)\n",
        "\n",
        "people_by_city = count_people_by_city(people_info)\n",
        "print(\"Количество людей в городах:\", people_by_city)\n",
        "\n",
        "people__occupation = people_occupation(people_info)\n",
        "print(\"Группировка людей по профессиям:\", people__occupation)"
      ],
      "metadata": {
        "id": "lSNtB39OWtFl",
        "colab": {
          "base_uri": "https://localhost:8080/"
        },
        "outputId": "b6b78b6b-f7e0-4c09-8496-95f9ab3e5915"
      },
      "execution_count": null,
      "outputs": [
        {
          "output_type": "stream",
          "name": "stdout",
          "text": [
            "Люди старше 30 лет: {'Charlie': {'age': 35, 'city': 'Chicago', 'occupation': 'Teacher'}, 'Ethan': {'age': 40, 'city': 'Seattle', 'occupation': 'Chef'}, 'Frank': {'age': 32, 'city': 'Atlanta', 'occupation': 'Lawyer'}, 'Harrison': {'age': 38, 'city': 'Denver', 'occupation': 'Architect'}, 'Julian': {'age': 42, 'city': 'Miami', 'occupation': 'Musician'}, 'Kate': {'age': 31, 'city': 'Philadelphia', 'occupation': 'Nurse'}, 'Lucas': {'age': 36, 'city': 'Nashville', 'occupation': 'Businessman'}, 'Natalie': {'age': 39, 'city': 'Portland', 'occupation': 'Writer'}, 'Oliver': {'age': 44, 'city': 'Minneapolis', 'occupation': 'Professor'}, 'Penelope': {'age': 33, 'city': 'San Diego', 'occupation': 'Marketing Manager'}, 'Quincy': {'age': 41, 'city': 'Nashville', 'occupation': 'Singer'}, 'Rachel': {'age': 34, 'city': 'Cleveland', 'occupation': 'Teacher'}, 'Tessa': {'age': 37, 'city': 'Miami', 'occupation': 'Lawyer'}}\n",
            "Количество людей в городах: {'New York': 1, 'Los Angeles': 1, 'Chicago': 1, 'Miami': 3, 'Seattle': 1, 'Atlanta': 2, 'San Francisco': 1, 'Denver': 1, 'Washington D.C.': 1, 'Philadelphia': 1, 'Nashville': 3, 'Portland': 1, 'Minneapolis': 1, 'San Diego': 1, 'Cleveland': 1}\n",
            "Группировка людей по профессиям: {'Engineer': ['Alice', 'Sophia'], 'Designer': ['Bob'], 'Teacher': ['Charlie', 'Rachel'], 'Doctor': ['Diana'], 'Chef': ['Ethan'], 'Lawyer': ['Frank', 'Tessa'], 'Software Engineer': ['Gabriella'], 'Architect': ['Harrison'], 'Journalist': ['Isabella'], 'Musician': ['Julian'], 'Nurse': ['Kate'], 'Businessman': ['Lucas'], 'Artist': ['Mia'], 'Writer': ['Natalie'], 'Professor': ['Oliver'], 'Marketing Manager': ['Penelope'], 'Singer': ['Quincy']}\n"
          ]
        }
      ]
    },
    {
      "cell_type": "markdown",
      "source": [
        "# **Задание 7**"
      ],
      "metadata": {
        "id": "27IuB2YScezw"
      }
    },
    {
      "cell_type": "markdown",
      "source": [
        "Задание: Разработка системы отзывов о предметах\n",
        "\n",
        "Описание: Создать программу на Python для хранения и управления отзывами о предметах учебного курса. Программа должна позволять пользователям добавлять, просматривать и удалять отзывы, а также вычислять средний балл по заданному предмету.\n",
        "\n",
        "**Функционал:**\n",
        "\n",
        "*   Добавление отзыва и оценки:\n",
        "   *   Пользователь может ввести название предмета, оценку (от 1 до 5) и текст отзыва.\n",
        "   *   Отзывы должны храниться в структуре данных (например, словаре), где ключом будет название предмета, а значением - список отзывов (каждый отзыв может хранить оценку и комментарий).\n",
        "*   Просмотр отзывов и оценок:\n",
        "   *   Пользователь может запросить отзывы для указанного предмета.\n",
        "   *   Если для указанного предмета есть отзывы, программа должна отобразить список всех отзывов и соответствующих оценок.\n",
        "*   Удаление отзыва:\n",
        "   *   Пользователь может удалить отзыв по индексу. Необходимо заранее уведомить пользователя о том, какие отзывы доступны для удаления.\n",
        "   *   Программа должна обработать ситуацию, когда индекс введен неправильно.\n",
        "*   Вычисление среднего балла по предмету:\n",
        "   *   Пользователь может ввести название предмета, и программа должна вычислить и вывести средний балл по всем отзывам для этого предмета.\n",
        "   *   Если отзывов нет, программа должна сообщить об этом.\n",
        "\n",
        "\n",
        "**Критерии:**\n",
        "\n",
        "*   Код должен быть оформлен в виде функций\n",
        "*   Необходимо обрабатывать неправильный ввод пользователя\n",
        "*   Должны быть комментарии к функциям\n",
        "*   Присутсвует весь дополнительный функционал\n",
        "\n",
        "\n",
        "\n",
        "**Опционально:**\n",
        "\n",
        "Предлагаю вам добавить свои критерии оценки или вопросы, на которые должен ответить студент, чтобы оценить пару\n",
        "\n",
        "\n"
      ],
      "metadata": {
        "id": "Fd95-S9cYhct"
      }
    },
    {
      "cell_type": "code",
      "source": [],
      "metadata": {
        "id": "kzucJrCUa0o7"
      },
      "execution_count": null,
      "outputs": []
    }
  ]
}