{
  "nbformat": 4,
  "nbformat_minor": 0,
  "metadata": {
    "colab": {
      "provenance": []
    },
    "kernelspec": {
      "name": "python3",
      "display_name": "Python 3"
    },
    "language_info": {
      "name": "python"
    }
  },
  "cells": [
    {
      "cell_type": "markdown",
      "source": [
        "Введите ваше ФИО:"
      ],
      "metadata": {
        "id": "k8oVfdwrMXyc"
      }
    },
    {
      "cell_type": "code",
      "execution_count": null,
      "metadata": {
        "id": "5mcBLsKMI1-5"
      },
      "outputs": [],
      "source": [
        "Насибов Фарид"
      ]
    },
    {
      "cell_type": "markdown",
      "source": [
        "***Дисклеймер***\n",
        "\n",
        "В данной практике запрещено использования функций:\n",
        "\n",
        "\n",
        "*   sum()\n",
        "*   min()\n",
        "*   max()\n",
        "*   average()\n",
        "*   reversed()\n",
        "*   sorted()\n",
        "*   готовые функции или библиотеки\n"
      ],
      "metadata": {
        "id": "8HbYUbm3Jw3o"
      }
    },
    {
      "cell_type": "markdown",
      "source": [
        "\n",
        "**Задача 1:**\n",
        "\n",
        "\n",
        "\n",
        "Интернет-магазин предлагает следующие условия скидок:\n",
        "\n",
        "*   Для заказов больше 1000 единиц, клиент получает скидку 5%. Если клиент использует промокод SUPERDISCOUNT, он получает скидку 10% (вместо 5%).\n",
        "*  Для заказов более 5000 единиц, клиент получает скидку 15%, а использование промокода SUPERDISCOUNT увеличивает скидку до 20% (вместо 15%).\n",
        "\n",
        "Этап 1:\n",
        "Ввод:\n",
        "```\n",
        "Введите стоимость единицы товара: 5\n",
        "Введите количество товара: 1001\n",
        "Введите промокод: GiVEMEDISCONT\n",
        "```\n",
        "\n",
        "Вывод:\n",
        "\n",
        "```\n",
        "Ваша скидка: 5%\n",
        "Итоговая сумма: 4754.75\n",
        "```\n",
        "Этап 2:\n",
        "\n",
        "Оформите ваш код в виде функции"
      ],
      "metadata": {
        "id": "HmX0c6YPJSQr"
      }
    },
    {
      "cell_type": "code",
      "source": [
        "def calc_cost(cost,count,promo):\n",
        "  res = cost * count\n",
        "  perc = 0\n",
        "  if 1000 < count <= 5000:\n",
        "    if promo == 'SUPERDISCOUNT':\n",
        "      perc = 10\n",
        "      res = res/100*90\n",
        "    else:\n",
        "       perc = 5\n",
        "       res = res/100*95\n",
        "  elif count > 5000:\n",
        "    if promo == 'SUPERDISCOUNT':\n",
        "       perc = 20\n",
        "       res = res/100*80\n",
        "    else:\n",
        "      perc = 15\n",
        "      res = res/100*85\n",
        "  return perc, res\n",
        "\n",
        "\n",
        "cost = int(input('Введите стоимость единицы товара:'))\n",
        "count = int(input('Введите количество товара:'))\n",
        "promo = input('Введите промокод(если он есть):')\n",
        "\n",
        "perc, res = calc_cost(cost,count,promo)\n",
        "print('Ваша скидка', perc, '% \\nИтоговая сумма', res)\n"
      ],
      "metadata": {
        "id": "OAIMIpklMN5D",
        "colab": {
          "base_uri": "https://localhost:8080/"
        },
        "outputId": "591d556b-d518-4104-d506-77337cbcdb28"
      },
      "execution_count": null,
      "outputs": [
        {
          "output_type": "stream",
          "name": "stdout",
          "text": [
            "Введите стоимость единицы товара:5\n",
            "Введите количество товара:1001\n",
            "Введите промокод(если он есть):g\n",
            "Ваша скидка 5 % \n",
            "Итоговая сумма 4754.75\n"
          ]
        }
      ]
    },
    {
      "cell_type": "markdown",
      "source": [
        "**Задача 2:**\n",
        "\n",
        "Этап 1:\n",
        "Напишите программу способную отфильтровать список и вывести только положительные элементы\n",
        "\n",
        "\n",
        "Ввод:\n",
        "```\n",
        "-1 5 1 2 -3\n",
        "```\n",
        "\n",
        "Вывод:\n",
        "\n",
        "```\n",
        "5 1 2\n",
        "```\n",
        "\n",
        "Этап 2:\n",
        "\n",
        "Оформите ваш код в виде функции"
      ],
      "metadata": {
        "id": "eeRVWpuLNGJ0"
      }
    },
    {
      "cell_type": "code",
      "source": [
        "def filt(arr):\n",
        "  res = []\n",
        "  for x in arr:\n",
        "    if x > 0:\n",
        "      res.append(x)\n",
        "  return res\n",
        "\n",
        "arr = list(map(int, input().split()))\n",
        "res = filt(arr)\n",
        "for i in res:\n",
        "  print(i, end=\" \")"
      ],
      "metadata": {
        "id": "Xbi6bL0WOE9N",
        "colab": {
          "base_uri": "https://localhost:8080/"
        },
        "outputId": "81e86551-8e61-4f2e-826c-274bbae10a3b"
      },
      "execution_count": null,
      "outputs": [
        {
          "output_type": "stream",
          "name": "stdout",
          "text": [
            "-1 5 1 2 -3\n",
            "5 1 2 "
          ]
        }
      ]
    },
    {
      "cell_type": "markdown",
      "source": [
        "**Задача 3:**\n",
        "\n",
        "Этап 1:\n",
        "Напишите программу реализующую Алгоритм Евклида\n",
        "\n",
        "\n",
        "> Алгоритм Евклида – это алгоритм нахождения наибольшего общего делителя (НОД) пары целых чисел.\n",
        "\n",
        "\n",
        "\n",
        "Ввод:\n",
        "```\n",
        "30 18\n",
        "```\n",
        "\n",
        "Вывод:\n",
        "\n",
        "```\n",
        "6\n",
        "```\n",
        "\n",
        "Этап 2:\n",
        "Оформите ваш код в виде функции\n"
      ],
      "metadata": {
        "id": "lV-w6G-POa6F"
      }
    },
    {
      "cell_type": "code",
      "source": [
        "def euclidean_algorithm(a, b):\n",
        "  while b != 0:\n",
        "    c = a\n",
        "    a = b\n",
        "    b = c % b\n",
        "  return a\n",
        "\n",
        "\n",
        "a = int(input(\"Введите первое целое число -  \"))\n",
        "b = int(input(\"Введите второе целое число - \"))\n",
        "res = euclidean_algorithm(a,b)\n",
        "print(\"Наибольший общий делитель равен - \", res)\n"
      ],
      "metadata": {
        "id": "X2n6fnd91yt7",
        "colab": {
          "base_uri": "https://localhost:8080/"
        },
        "outputId": "8e8557d8-08e3-447d-d0fd-829be854e177"
      },
      "execution_count": null,
      "outputs": [
        {
          "output_type": "stream",
          "name": "stdout",
          "text": [
            "Введите первое целое число -  30\n",
            "Введите второе целое число - 18\n",
            "Наибольший общий делитель равен -  6\n"
          ]
        }
      ]
    },
    {
      "cell_type": "markdown",
      "source": [
        "**Задача 4:**\n",
        "\n",
        "Этап 1:\n",
        "Напишите функцию программу, которая принимает строку и возвращает список слов и количество их упомнинаний в предложении\n",
        "\n",
        "Этап 2:\n",
        "Оформите ваш код в виде функции\n",
        "\n",
        "Ввод:\n",
        "```\n",
        "apple banana apple\n",
        "```\n",
        "\n",
        "Вывод:\n",
        "\n",
        "```\n",
        "apple: 2,\n",
        "banana: 1\n",
        "```"
      ],
      "metadata": {
        "id": "WIfPFxpsO0zL"
      }
    },
    {
      "cell_type": "code",
      "source": [
        "def count_words(words):\n",
        "  word_dict = {}\n",
        "  for word in words:\n",
        "    if word in word_dict:\n",
        "      word_dict[word] += 1\n",
        "    else:\n",
        "      word_dict[word] = 1\n",
        "  return word_dict\n",
        "\n",
        "\n",
        "words = ('apple','banana','apple')\n",
        "dct = count_words(words)\n",
        "for k, v in dct.items():\n",
        "  print(f'{k}: {v}')"
      ],
      "metadata": {
        "id": "DgsmFeW5Po_x",
        "colab": {
          "base_uri": "https://localhost:8080/"
        },
        "outputId": "b195e489-3882-4368-9768-999d4fc719e6"
      },
      "execution_count": null,
      "outputs": [
        {
          "output_type": "stream",
          "name": "stdout",
          "text": [
            "apple: 2\n",
            "banana: 1\n"
          ]
        }
      ]
    },
    {
      "cell_type": "markdown",
      "source": [
        "**Задача 5:**\n",
        "\n",
        "Этап 1:\n",
        "Детектор анаграмм Напишите программу на Python, которая принимает в качестве входных данных две строки и проверяет, являются ли они анаграммами друг друга\n",
        "\n",
        "Этап 2:\n",
        "Оформите ваш код в виде функции\n",
        "\n",
        "Ввод:\n",
        "```\n",
        "listen, silent\n",
        "```\n",
        "\n",
        "Вывод:\n",
        "\n",
        "```\n",
        "True\n",
        "```"
      ],
      "metadata": {
        "id": "5BmIJLUZP9I-"
      }
    },
    {
      "cell_type": "code",
      "source": [
        "def detector(a , b):\n",
        "  if a == b:\n",
        "\n",
        "  else:\n",
        "    print('1')"
      ],
      "metadata": {
        "id": "7LNW8DuHQJwH"
      },
      "execution_count": null,
      "outputs": []
    },
    {
      "cell_type": "markdown",
      "source": [
        "**Задача 6:**\n",
        "\n",
        "Шифр ​​Цезаря\n",
        "\n",
        "Напишите программу на Python, которая реализует шифр Цезаря, простой метод шифрования, который заменяет каждую букву буквой на фиксированное количество позиций вниз по алфавиту. Программа должна запрашивать у пользователя сообщение и значение сдвига, а затем шифровать и расшифровывать сообщение.\n",
        "\n",
        "Этап 1:\n",
        "\n",
        "Напишите код для реализации данной задачи\n",
        "\n",
        "Этап 2:\n",
        "\n",
        "Оформите код в виде нескольких функций:\n",
        "\n",
        "* Зашифровывает сообщение\n",
        "* Расшифровывает сообщение"
      ],
      "metadata": {
        "id": "-SIWYSq2QKBh"
      }
    },
    {
      "cell_type": "code",
      "source": [],
      "metadata": {
        "id": "anThYirsQe6N"
      },
      "execution_count": null,
      "outputs": []
    },
    {
      "cell_type": "markdown",
      "source": [
        "**Задача 7**\n",
        "\n",
        "Задача: «Банковская система»\n",
        "\n",
        "Создайте программу Python, которая имитирует базовую банковскую систему. Система должна иметь следующие функции:\n",
        "\n",
        "Требования\n",
        "*   Система должна позволять клиентам создавать счета и хранить их балансы.\n",
        "*   Система должна позволять клиентам вносить и снимать деньги со своих счетов.\n",
        "*   Система должна позволять клиентам проверять свой текущий баланс.\n",
        "*   Система должна позволять клиентам переводить деньги между счетами.\n",
        "*   Система должна отслеживать транзакции (депозиты, снятия и переводы) и иметь возможность печатать детали транзакций.\n",
        "\n",
        "\n",
        "Задачи\n",
        "1. Реализуйте банковскую систему, используя только базовые конструкции Python, такие как def, lists, if, elif и else, без классов или словарей.\n",
        "Определите функции для создания счетов, внесения и снятия денег, получения балансов счетов, перевода денег между счетами, а также создания и печати транзакций.\n",
        "2. Напишите основную функцию, которая демонстрирует использование банковской системы путем создания счетов, внесения и снятия денег и перевода денег между счетами.\n",
        "3. Бонусное задание\n",
        "Реализуйте способ хранения и печати истории транзакций для каждого счета.\n",
        "\n",
        "Ограничения\n",
        "Не используйте классы или словари.\n",
        "Используйте только базовые конструкции Python, такие как def, lists, if, elif и else.\n"
      ],
      "metadata": {
        "id": "avFZRRXrQz9O"
      }
    },
    {
      "cell_type": "code",
      "source": [],
      "metadata": {
        "id": "dWEW10zIRwjs"
      },
      "execution_count": null,
      "outputs": []
    }
  ]
}