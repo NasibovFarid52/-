{
  "nbformat": 4,
  "nbformat_minor": 0,
  "metadata": {
    "colab": {
      "provenance": []
    },
    "kernelspec": {
      "name": "python3",
      "display_name": "Python 3"
    },
    "language_info": {
      "name": "python"
    }
  },
  "cells": [
    {
      "cell_type": "markdown",
      "source": [
        "*ФИО*: Насибов Фарид"
      ],
      "metadata": {
        "id": "fLDS5f_mCnPa"
      }
    },
    {
      "cell_type": "markdown",
      "source": [
        "# Задание (совместное с преподавателем)\n",
        "\n",
        "\n"
      ],
      "metadata": {
        "id": "-CSHUbWzCqeM"
      }
    },
    {
      "cell_type": "markdown",
      "source": [
        "Напишите систему для учёта отпусков с возможностью узнавать, сколько дней отпуска осталось у того или иного сотрудника.\n",
        "Для этого создайте класс Employee со следующими методами:\n",
        "\n",
        "- Метод consume_vacation должен отвечать за списание дней отпуска.\n",
        "\n",
        "Единственный параметр этого метода (кроме self) — количество потраченных отпускных дней (целое число).\n",
        "\n",
        "При вызове метода consume_vacation соответствующее количество дней должно вычитаться из общего числа доступных отпускных дней сотрудника.\n",
        "\n",
        "Чтобы определить число доступных отпускных дней конкретного сотрудника, в классе опишите атрибут экземпляра |, который по умолчанию будет равен значению атрибута класса vacation_days, и используйте этот атрибут в работе метода.\n",
        "\n",
        "- Метод get_vacation_details должен возвращать остаток отпускных дней сотрудника в формате: ```Остаток отпускных дней: <число>.```\n",
        "\n",
        "\n",
        "Чтобы проверить работу программы:\n",
        "1. Создайте экземпляр класса Employee.\n",
        "2. Вызовите метод consume_vacation, указав подходящее значение аргумента, например 7.\n",
        "3. Вызовите метод get_vacation_details."
      ],
      "metadata": {
        "id": "a_flBjZOCwYz"
      }
    },
    {
      "cell_type": "code",
      "source": [],
      "metadata": {
        "id": "2TyRY9a1XCOu"
      },
      "execution_count": null,
      "outputs": []
    },
    {
      "cell_type": "markdown",
      "source": [
        "# Задание 1"
      ],
      "metadata": {
        "id": "C0Z_wXo9XIr2"
      }
    },
    {
      "cell_type": "markdown",
      "source": [
        "Задание:\n",
        "\n",
        "Создайте класс с именем Rectangle который имеет:\n",
        "- Атрибуты ширины и высоты.\n",
        "- Метод расчета площади.\n",
        "- Метод расчета периметра.\n",
        "- Метод отображения размеров прямоугольника.\n",
        "\n",
        "Создайте экземпляр класса Rectangleи продемонстрируйте его функциональность."
      ],
      "metadata": {
        "id": "jQ4qqd8nEZBY"
      }
    },
    {
      "cell_type": "code",
      "source": [
        "class Rectangle:\n",
        "  def __init__(self, width, height):\n",
        "    self.width = width\n",
        "    self.height = height\n",
        "\n",
        "\n",
        "  def area(self):\n",
        "    return self.width * self.height\n",
        "\n",
        "\n",
        "  def perimeter(self):\n",
        "    return 2 * (self.width + self.height)\n",
        "\n",
        "\n",
        "  def size(self):\n",
        "    return self.width, self.height\n",
        "\n",
        "\n",
        "input_width = int(input('Введите ширину - '))\n",
        "input_height = int(input('Введите высоту - '))\n",
        "rect = Rectangle(input_width, input_height)\n",
        "print(\"\\nПлощадь:\", rect.area())\n",
        "print(\"Периметр:\", rect.perimeter())\n",
        "print('Размеры:', rect.size())"
      ],
      "metadata": {
        "id": "dG6uNPqTEAvt",
        "colab": {
          "base_uri": "https://localhost:8080/"
        },
        "outputId": "1bafc081-1d41-4d5b-e8ff-8869d4180c9e"
      },
      "execution_count": null,
      "outputs": [
        {
          "output_type": "stream",
          "name": "stdout",
          "text": [
            "Введите ширину - 2\n",
            "Введите высоту - 10\n",
            "\n",
            "Площадь: 20\n",
            "Периметр: 24\n",
            "Размеры: (2, 10)\n"
          ]
        }
      ]
    },
    {
      "cell_type": "markdown",
      "source": [
        "# Задание 2"
      ],
      "metadata": {
        "id": "0ct1u6lqE73j"
      }
    },
    {
      "cell_type": "markdown",
      "source": [
        "Задание: Создайте мини версию банковской системы:\n",
        "\n",
        "\n",
        "Инструкции:\n",
        "\n",
        "1. Создайте класс BankAccountсо следующими атрибутами:\n",
        "    - account_holder -  владелец счета\n",
        "    - balance - баланс счета\n",
        "\n",
        "2. Реализуйте следующие методы:\n",
        "    - Метод для инициализации владельца счета: имя владельца счета и установите начальный баланс на 0.\n",
        "    - deposit(amount): Добавьте указанную сумму к балансу.\n",
        "    - withdraw(amount): Вычесть указанную сумму из баланса, если средств достаточно; в противном случае вывести предупреждение.\n",
        "    - get_balance(): Возврат текущего баланса.\n",
        "\n",
        "\n",
        "Создайте объект класса и продемонстрируйте его возможности"
      ],
      "metadata": {
        "id": "FOpIpcLxE-WK"
      }
    },
    {
      "cell_type": "code",
      "source": [
        "class BankAccount:\n",
        "  def __init__(self, account_holder):\n",
        "    self.account_holder = account_holder\n",
        "    self.balance = 0\n",
        "\n",
        "\n",
        "  def deposit(self, amount):\n",
        "    if amount > 0:\n",
        "      self.balance += amount\n",
        "      print(f'Успешно внесено {amount} на счет {self.account_holder}')\n",
        "    else:\n",
        "      print('Сумма должна быть больше 0')\n",
        "\n",
        "\n",
        "  def withdraw(self, amount):\n",
        "    if amount > 0:\n",
        "      if self.balance >= amount:\n",
        "        self.balance -= amount\n",
        "        print(f'Успешно снято {amount} со счета {self.account_holder}')\n",
        "    else:\n",
        "      print('Недостаточно средств на счете')\n",
        "\n",
        "\n",
        "  def get_balance(self):\n",
        "    print(f'Текущий баланс счета {self.account_holder}: {self.balance}')\n",
        "\n",
        "\n",
        "name = input('Введите имя владельца: ')\n",
        "account = BankAccount(name)\n",
        "\n",
        "while True:\n",
        "  print('\\nЧто будем делать?')\n",
        "  print('1. Пополнить счёт')\n",
        "  print('2. Снять со счёта')\n",
        "  print('3. Текущий баланс')\n",
        "  print('4. Выйти')\n",
        "\n",
        "  choice = input('Ваш выбор: ')\n",
        "\n",
        "  if choice == '1':\n",
        "    amount = int(input('Сумма: '))\n",
        "    account.deposit(amount)\n",
        "  elif choice == '2':\n",
        "    amount = int(input('Сумма: '))\n",
        "    account.withdraw(amount)\n",
        "  elif choice == '3':\n",
        "    account.get_balance()\n",
        "  elif choice == '4':\n",
        "    break\n",
        "  else:\n",
        "    print('Неверный выбор.')"
      ],
      "metadata": {
        "id": "WWXNIUrCE99W",
        "colab": {
          "base_uri": "https://localhost:8080/"
        },
        "outputId": "7f89cdc3-8f3b-4499-81d0-f4bc289dd958"
      },
      "execution_count": null,
      "outputs": [
        {
          "name": "stdout",
          "output_type": "stream",
          "text": [
            "Введите имя владельца: Фарид\n",
            "\n",
            "Что будем делать?\n",
            "1. Пополнить счёт\n",
            "2. Снять со счёта\n",
            "3. Текущий баланс\n",
            "4. Выйти\n",
            "Ваш выбор: 1\n",
            "Сумма: 1000\n",
            "Успешно внесено 1000 на счет Фарид\n",
            "\n",
            "Что будем делать?\n",
            "1. Пополнить счёт\n",
            "2. Снять со счёта\n",
            "3. Текущий баланс\n",
            "4. Выйти\n",
            "Ваш выбор: 3\n",
            "Текущий баланс счета Фарид: 1000\n",
            "\n",
            "Что будем делать?\n",
            "1. Пополнить счёт\n",
            "2. Снять со счёта\n",
            "3. Текущий баланс\n",
            "4. Выйти\n",
            "Ваш выбор: 2\n",
            "Сумма: 500\n",
            "Успешно снято 500 со счета Фарид\n",
            "\n",
            "Что будем делать?\n",
            "1. Пополнить счёт\n",
            "2. Снять со счёта\n",
            "3. Текущий баланс\n",
            "4. Выйти\n",
            "Ваш выбор: 3\n",
            "Текущий баланс счета Фарид: 500\n",
            "\n",
            "Что будем делать?\n",
            "1. Пополнить счёт\n",
            "2. Снять со счёта\n",
            "3. Текущий баланс\n",
            "4. Выйти\n",
            "Ваш выбор: 4\n"
          ]
        }
      ]
    },
    {
      "cell_type": "markdown",
      "source": [
        "# Задание 3"
      ],
      "metadata": {
        "id": "C5DX5Uf2FfP6"
      }
    },
    {
      "cell_type": "markdown",
      "source": [
        "Возьмите код и задание (Рыцарь и дракон) из предыдущей практики и реализуйте его с применением классов"
      ],
      "metadata": {
        "id": "0cR-MYepFgz6"
      }
    },
    {
      "cell_type": "code",
      "source": [
        "import random\n",
        "\n",
        "class Fighter:\n",
        "  def __init__(self, name, health, min_damage, max_damage):\n",
        "    self.name = name\n",
        "    self.health = health\n",
        "    self.min_damage = min_damage\n",
        "    self.max_damage = max_damage\n",
        "\n",
        "  def attack(self, enemy):\n",
        "    damage = random.randint(self.min_damage, self.max_damage)\n",
        "    enemy.health -= damage\n",
        "    print(f'{self.name} бьёт {enemy.name} на {damage}!')\n",
        "\n",
        "  def is_alive(self):\n",
        "    return self.health > 0\n",
        "\n",
        "\n",
        "knight_name = input('Имя рыцаря: ')\n",
        "knight = Fighter(knight_name, 100, 10, 25)\n",
        "dragon = Fighter('Ифрит', 100, 10, 25)\n",
        "\n",
        "while knight.is_alive() and dragon.is_alive():\n",
        "  print(f'\\n{knight_name}: {knight.health}, Ифрит: {dragon.health}')\n",
        "  knight.attack(dragon)\n",
        "  if not dragon.is_alive():\n",
        "    break\n",
        "  dragon.attack(knight)\n",
        "\n",
        "if knight.is_alive():\n",
        "  print(f'{knight_name} победил!')\n",
        "else:\n",
        "  print('Ифрит победил!')\n",
        "\n"
      ],
      "metadata": {
        "id": "Oz9BZbhAFwua",
        "colab": {
          "base_uri": "https://localhost:8080/"
        },
        "outputId": "bd3a631c-b82b-4b49-d4b0-6ac5a839c741"
      },
      "execution_count": null,
      "outputs": [
        {
          "output_type": "stream",
          "name": "stdout",
          "text": [
            "Имя рыцаря: Люциус\n",
            "\n",
            "Люциус: 100, Ифрит: 100\n",
            "Люциус бьёт Ифрит на 13!\n",
            "Ифрит бьёт Люциус на 11!\n",
            "\n",
            "Люциус: 89, Ифрит: 87\n",
            "Люциус бьёт Ифрит на 12!\n",
            "Ифрит бьёт Люциус на 23!\n",
            "\n",
            "Люциус: 66, Ифрит: 75\n",
            "Люциус бьёт Ифрит на 23!\n",
            "Ифрит бьёт Люциус на 17!\n",
            "\n",
            "Люциус: 49, Ифрит: 52\n",
            "Люциус бьёт Ифрит на 21!\n",
            "Ифрит бьёт Люциус на 24!\n",
            "\n",
            "Люциус: 25, Ифрит: 31\n",
            "Люциус бьёт Ифрит на 18!\n",
            "Ифрит бьёт Люциус на 12!\n",
            "\n",
            "Люциус: 13, Ифрит: 13\n",
            "Люциус бьёт Ифрит на 13!\n",
            "Люциус победил!\n"
          ]
        }
      ]
    },
    {
      "cell_type": "markdown",
      "source": [
        "# Дополнительное задание\n"
      ],
      "metadata": {
        "id": "b_mJHXcQGI9t"
      }
    },
    {
      "cell_type": "markdown",
      "source": [
        "Задача: Система управления библиотекой\n",
        "\n",
        "**Цель**\n",
        "Создайте простую систему управления библиотекой, которая позволит пользователям добавлять книги, брать книги, возвращать книги и просматривать список доступных книг.\n",
        "\n",
        "**Требования**\n",
        "\n",
        "1. **Определение класса**:\n",
        "   – Создайте класс с именем «Book» со следующими атрибутами:\n",
        "     - `title`\n",
        "     - `автор`\n",
        "     - `isbn`\n",
        "     - `is_borrowed` (по умолчанию `False`)\n",
        "\n",
        "2. **Класс библиотеки**:\n",
        "   - Создайте класс с именем Library, который управляет коллекцией книг.\n",
        "   - Класс должен иметь следующие методы:\n",
        "     - `__init__(self)`: инициализирует пустой список книг.\n",
        "     - `add_book(self, book: Book)`: добавляет новую книгу в библиотеку.\n",
        "     - `borrow_book(self, isbn: str)`: помечает книгу как заимствованную. Если книга не найдена или уже взята, выведите соответствующее сообщение.\n",
        "     - `return_book(self, isbn: str)`: помечает книгу как возвращенную. Если книга не найдена или не была взята взаймы, выведите соответствующее сообщение.\n",
        "     - `list_available_books(self)`: печатает список всех доступных книг в библиотеке.\n",
        "     - `find_book(self, isbn: str)`: возвращает объект книги, если он найден, в противном случае возвращает `None`.\n",
        "\n",
        "3. **Взаимодействие с пользователем**:\n",
        "   - Создайте простое текстовое меню, которое позволит пользователям:\n",
        "     - Добавить книгу\n",
        "     - Одолжить книгу\n",
        "     - Вернуть книгу\n",
        "     - Список доступных книг\n",
        "     - Выйти из программы"
      ],
      "metadata": {
        "id": "pnIUdFPcGOVL"
      }
    },
    {
      "cell_type": "code",
      "source": [],
      "metadata": {
        "id": "GKKmdfN8GL6f"
      },
      "execution_count": null,
      "outputs": []
    },
    {
      "cell_type": "code",
      "source": [],
      "metadata": {
        "id": "ZXOWt9LeqWx0"
      },
      "execution_count": null,
      "outputs": []
    }
  ]
}