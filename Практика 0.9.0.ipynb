{
  "nbformat": 4,
  "nbformat_minor": 0,
  "metadata": {
    "colab": {
      "provenance": [],
      "collapsed_sections": [
        "weOtPwPQmgpD",
        "7nSJIqkTvC_C",
        "qZ7qFQnmssNd",
        "N8oFiEXol3e2"
      ]
    },
    "kernelspec": {
      "name": "python3",
      "display_name": "Python 3"
    },
    "language_info": {
      "name": "python"
    }
  },
  "cells": [
    {
      "cell_type": "markdown",
      "source": [
        "ФИО"
      ],
      "metadata": {
        "id": "8hJfL9b2l439"
      }
    },
    {
      "cell_type": "code",
      "source": [
        "Насибов Фарид"
      ],
      "metadata": {
        "id": "wRnqvYOkl6EX"
      },
      "execution_count": null,
      "outputs": []
    },
    {
      "cell_type": "markdown",
      "source": [
        "# Дисклеймер"
      ],
      "metadata": {
        "id": "weOtPwPQmgpD"
      }
    },
    {
      "cell_type": "markdown",
      "source": [
        "В данной практике вам необходимо применить все ваши знания по темам:\n",
        "\n",
        "- Функции\n",
        "- Словари\n",
        "- Списки\n",
        "- Множества\n",
        "- Условные конструкции\n",
        "- Запросы\n",
        "\n",
        "и все что было изучено на прошлых практических занятиях\n",
        "\n",
        "В каждом задании кратко описаны функции, которые необходимо реализовать, детали реализации вы должны продумать самостоятельно"
      ],
      "metadata": {
        "id": "LznB3uscmjDa"
      }
    },
    {
      "cell_type": "markdown",
      "source": [
        "# Задание 0"
      ],
      "metadata": {
        "id": "7nSJIqkTvC_C"
      }
    },
    {
      "cell_type": "markdown",
      "source": [
        "Создайте функцию по нахождению уникальных элементов из двух списков\n",
        "\n",
        "\n",
        "\n",
        "```\n",
        "a = [1, 2, 3, 4]\n",
        "b = [3, 4, 5, 6]\n",
        "```\n",
        "\n"
      ],
      "metadata": {
        "id": "exACjTiVvGUe"
      }
    },
    {
      "cell_type": "code",
      "source": [
        "def unique():\n",
        "  correct_unique = []\n",
        "  for correct_char1 in a:\n",
        "    for correct_char2 in b:\n",
        "      if correct_char1 == correct_char2:\n",
        "        correct_unique.append(correct_char1)\n",
        "  return correct_unique\n",
        "\n",
        "\n",
        "a = [1, 2, 3, 4]\n",
        "b = [3, 4, 5, 6]\n",
        "print(unique())"
      ],
      "metadata": {
        "colab": {
          "base_uri": "https://localhost:8080/"
        },
        "id": "jQHHGQ3DRMQN",
        "outputId": "ca6952bd-51f5-4f5d-eaed-e182c9de8f09"
      },
      "execution_count": null,
      "outputs": [
        {
          "output_type": "stream",
          "name": "stdout",
          "text": [
            "[3, 4]\n"
          ]
        }
      ]
    },
    {
      "cell_type": "markdown",
      "source": [
        "# Задание 1"
      ],
      "metadata": {
        "id": "SVWNlBALpCNo"
      }
    },
    {
      "cell_type": "markdown",
      "source": [
        "Симулятор виртуального питомца\n",
        "\n",
        "Цель: создать виртуальный симулятор домашних животных, в котором пользователи смогут заводить питомцев и ухаживать за ними.\n",
        "\n",
        "Требования:\n",
        "\n",
        "- Функция для усыновления питомца (имя, тип, возраст).\n",
        "- Функция для того, чтобы покормить питомца, поиграть с ним или уложить его спать.\n",
        "- Функция для отображения состояния питомца (голод, радость, энергия)."
      ],
      "metadata": {
        "id": "RcKA-VEqpC7f"
      }
    },
    {
      "cell_type": "code",
      "source": [
        "def adopt_pet():\n",
        "  name = input('Как ты хочешь назвать своего питомца? ')\n",
        "  pet_type = input('Какой это питомец? ')\n",
        "  age = int(input('Сколько лет питомцу? '))\n",
        "  return {'name': name, 'type': pet_type, 'age': age, 'hunger': 3, 'happiness': 3, 'energy': 5}\n",
        "\n",
        "\n",
        "def feed_pet(pet):\n",
        "  pet['hunger'] += 2\n",
        "  pet['energy'] -= 1\n",
        "  print(f\"{pet['name']} доволен!\")\n",
        "\n",
        "\n",
        "def play_pet(pet):\n",
        "  pet[\"hunger\"] -= 2\n",
        "  pet[\"happiness\"] += 2\n",
        "  pet[\"energy\"] -= 2\n",
        "  print(f\"Вы поиграли с {pet['name']}!\")\n",
        "\n",
        "\n",
        "def sleep_pet(pet):\n",
        "  pet['energy'] = 5\n",
        "  pet['hunger'] -= 3\n",
        "  print(f\"{pet['name']} выспался!\")\n",
        "\n",
        "\n",
        "def pet_status(pet):\n",
        "  print(f\"Информация о {pet['name']}\")\n",
        "  print(f\"Тип питомца: {pet['type']}\")\n",
        "  print(f\"Возраст: {pet['age']} лет\")\n",
        "  print(f\"Голод: {pet['hunger']}/5 (0 - голодный, 5 - сытый)\")\n",
        "  print(f\"Счастье: {pet['happiness']}/5 (0 - грустный, 5 - радостный)\")\n",
        "  print(f\"Энергия: {pet['energy']}/5 (0 - уставший, 5 - бодрый)\")\n",
        "\n",
        "\n",
        "def main():\n",
        "  my_pet = adopt_pet()\n",
        "  print(f\"Вы взяли {my_pet['name']} домой!\")\n",
        "\n",
        "  while True:\n",
        "    pet_status(my_pet)\n",
        "    print('\\nЧто будем делать?')\n",
        "    print('1. Покормить')\n",
        "    print('2. Поиграть')\n",
        "    print('3. Уложить спать')\n",
        "    print('4. Выйти')\n",
        "\n",
        "    choice = input('Ваш выбор: ')\n",
        "    if choice == '1':\n",
        "      feed_pet(my_pet)\n",
        "    elif choice == '2':\n",
        "      play_pet(my_pet)\n",
        "    elif choice == '3':\n",
        "      sleep_pet(my_pet)\n",
        "    elif choice == '4':\n",
        "        break\n",
        "    else:\n",
        "      print('Неверный выбор.')\n",
        "\n",
        "\n",
        "    my_pet['hunger'] = max(0, my_pet['hunger'])\n",
        "    my_pet['happiness'] = max(0, my_pet['happiness'])\n",
        "    my_pet['energy'] = max(0, my_pet['energy'])\n",
        "\n",
        "    my_pet['hunger'] = min(5, my_pet['hunger'])\n",
        "    my_pet['happiness'] = min(5, my_pet['happiness'])\n",
        "    my_pet['energy'] = min(5, my_pet['energy'])\n",
        "\n",
        "print(main())\n",
        "\n"
      ],
      "metadata": {
        "id": "hE7mF-HXpJLO",
        "colab": {
          "base_uri": "https://localhost:8080/"
        },
        "outputId": "403dd7ed-dc8c-4e76-be77-3f2179cbf3b0"
      },
      "execution_count": null,
      "outputs": [
        {
          "output_type": "stream",
          "name": "stdout",
          "text": [
            "Как ты хочешь назвать своего питомца? Генерал Гавс\n",
            "Какой это питомец? Собака\n",
            "Сколько лет питомцу? 52\n",
            "Вы взяли Генерал Гавс домой!\n",
            "Информация о Генерал Гавс\n",
            "Тип питомца: Собака\n",
            "Возраст: 52 лет\n",
            "Голод: 3/5 (0 - голодный, 5 - сытый)\n",
            "Счастье: 3/5 (0 - грустный, 5 - радостный)\n",
            "Энергия: 5/5 (0 - уставший, 5 - бодрый)\n",
            "\n",
            "Что будем делать?\n",
            "1. Покормить\n",
            "2. Поиграть\n",
            "3. Уложить спать\n",
            "4. Выйти\n",
            "Ваш выбор: 1\n",
            "Генерал Гавс доволен!\n",
            "Информация о Генерал Гавс\n",
            "Тип питомца: Собака\n",
            "Возраст: 52 лет\n",
            "Голод: 5/5 (0 - голодный, 5 - сытый)\n",
            "Счастье: 3/5 (0 - грустный, 5 - радостный)\n",
            "Энергия: 4/5 (0 - уставший, 5 - бодрый)\n",
            "\n",
            "Что будем делать?\n",
            "1. Покормить\n",
            "2. Поиграть\n",
            "3. Уложить спать\n",
            "4. Выйти\n",
            "Ваш выбор: 2\n",
            "Вы поиграли с Генерал Гавс!\n",
            "Информация о Генерал Гавс\n",
            "Тип питомца: Собака\n",
            "Возраст: 52 лет\n",
            "Голод: 3/5 (0 - голодный, 5 - сытый)\n",
            "Счастье: 5/5 (0 - грустный, 5 - радостный)\n",
            "Энергия: 2/5 (0 - уставший, 5 - бодрый)\n",
            "\n",
            "Что будем делать?\n",
            "1. Покормить\n",
            "2. Поиграть\n",
            "3. Уложить спать\n",
            "4. Выйти\n",
            "Ваш выбор: 3\n",
            "Генерал Гавс выспался!\n",
            "Информация о Генерал Гавс\n",
            "Тип питомца: Собака\n",
            "Возраст: 52 лет\n",
            "Голод: 0/5 (0 - голодный, 5 - сытый)\n",
            "Счастье: 5/5 (0 - грустный, 5 - радостный)\n",
            "Энергия: 5/5 (0 - уставший, 5 - бодрый)\n",
            "\n",
            "Что будем делать?\n",
            "1. Покормить\n",
            "2. Поиграть\n",
            "3. Уложить спать\n",
            "4. Выйти\n",
            "Ваш выбор: 4\n",
            "None\n"
          ]
        }
      ]
    },
    {
      "cell_type": "markdown",
      "source": [
        "# Задание 2"
      ],
      "metadata": {
        "id": "qZ7qFQnmssNd"
      }
    },
    {
      "cell_type": "markdown",
      "source": [
        "*Рыцарь* и дракон\n",
        "\n",
        "Цель: создать небольшую игру, в которой вам необходимо играть за рыцаря и сразиться с драконом\n",
        "\n",
        "Требования:\n",
        "\n",
        "- Создание персонажа (имя, информация о доспехах, оружии, урон, здоровье)\n",
        "- Управление персонажем и мини сюжет\n",
        "- Создание дракона (Имя, информация о здоровье и уроне)\n",
        "- Боевая система (нанесение и получение урона, урон должен быть случайным в заданном диапазоне)\n",
        "- Реализовать бой между драконом и рыцарем"
      ],
      "metadata": {
        "id": "UaccTe7ltNvg"
      }
    },
    {
      "cell_type": "code",
      "source": [
        "import random\n",
        "\n",
        "\n",
        "knight_name = input('Введите имя рыцаря: ')\n",
        "knight_armor = 'Стальные доспехи'\n",
        "knight_weapon = 'Длинный меч'\n",
        "knight_health = 100\n",
        "knight_damage_min = 10\n",
        "knight_damage_max = 25\n",
        "\n",
        "\n",
        "dragon_name = 'Ифрит'\n",
        "dragon_health = 100\n",
        "dragon_damage_min = 15\n",
        "dragon_damage_max = 25\n",
        "\n",
        "\n",
        "print(f'\\nРыцарь {knight_name}, одетый в {knight_armor} и вооруженный {knight_weapon}, отправляется сражаться с ужасным драконом {dragon_name}!')\n",
        "\n",
        "print('\\nБитва началась!')\n",
        "\n",
        "while knight_health > 0 and dragon_health > 0:\n",
        "  print(f'\\nЗдоровье рыцаря: {knight_health}')\n",
        "  print(f'Здоровье дракона: {dragon_health}')\n",
        "\n",
        "  knight_damage  = random.randint(knight_damage_min, knight_damage_max)\n",
        "  dragon_health -= knight_damage\n",
        "  print(f'Рыцарь наносит {knight_damage} урона дракону!')\n",
        "  if dragon_health <= 0:\n",
        "    print(f'Дракон {dragon_name} повержен!')\n",
        "    break\n",
        "\n",
        "  dragon_damage = random.randint(dragon_damage_min, dragon_damage_max)\n",
        "  knight_health -= dragon_damage\n",
        "  print(f'Дракон наносит {dragon_damage} урона рыцарю!')\n",
        "  if knight_health <= 0:\n",
        "    print(f'Рыцарь {knight_name} пал!')\n",
        "    break\n",
        "\n",
        "if dragon_health <= 0:\n",
        "  print('Вы победили!')\n",
        "\n",
        "if knight_health <= 0:\n",
        "  print('Вы проиграли( \\nПопробуйте ещё раз!')"
      ],
      "metadata": {
        "id": "LCcxp5Q0srjY",
        "colab": {
          "base_uri": "https://localhost:8080/"
        },
        "outputId": "5fb6a02f-8127-450d-fd03-d417f5fc343d"
      },
      "execution_count": null,
      "outputs": [
        {
          "output_type": "stream",
          "name": "stdout",
          "text": [
            "Введите имя рыцаря: Люциус\n",
            "\n",
            "Рыцарь Люциус, одетый в Стальные доспехи и вооруженный Длинный меч, отправляется сражаться с ужасным драконом Ифрит!\n",
            "\n",
            "Битва началась!\n",
            "\n",
            "Здоровье рыцаря: 100\n",
            "Здоровье дракона: 100\n",
            "Рыцарь наносит 19 урона дракону!\n",
            "Дракон наносит 21 урона рыцарю!\n",
            "\n",
            "Здоровье рыцаря: 79\n",
            "Здоровье дракона: 81\n",
            "Рыцарь наносит 13 урона дракону!\n",
            "Дракон наносит 17 урона рыцарю!\n",
            "\n",
            "Здоровье рыцаря: 62\n",
            "Здоровье дракона: 68\n",
            "Рыцарь наносит 24 урона дракону!\n",
            "Дракон наносит 19 урона рыцарю!\n",
            "\n",
            "Здоровье рыцаря: 43\n",
            "Здоровье дракона: 44\n",
            "Рыцарь наносит 21 урона дракону!\n",
            "Дракон наносит 15 урона рыцарю!\n",
            "\n",
            "Здоровье рыцаря: 28\n",
            "Здоровье дракона: 23\n",
            "Рыцарь наносит 16 урона дракону!\n",
            "Дракон наносит 18 урона рыцарю!\n",
            "\n",
            "Здоровье рыцаря: 10\n",
            "Здоровье дракона: 7\n",
            "Рыцарь наносит 15 урона дракону!\n",
            "Дракон Ифрит повержен!\n",
            "Вы победили!\n"
          ]
        }
      ]
    },
    {
      "cell_type": "markdown",
      "source": [
        "# Задание 3\n"
      ],
      "metadata": {
        "id": "N8oFiEXol3e2"
      }
    },
    {
      "cell_type": "markdown",
      "source": [
        "Цель - создать менеджера команды Pokémon, который позволит пользователям:\n",
        "\n",
        "- Добавлять покемонов в свою команду. (если такого покемона еще нет в команде)\n",
        "- Удалять покемонов из их команды.\n",
        "- Просматривать подробную информацию обо всех покемонах в команде.\n",
        "- Находить покемона по имени.\n",
        "- Устраивать тренировочный бой между двумя покемонами\n",
        "\n",
        "Для данной задачи используйте: https://pokeapi.co/\n"
      ],
      "metadata": {
        "id": "9p4WQG_Vl7wB"
      }
    },
    {
      "cell_type": "code",
      "source": [
        "Ссылка не работает("
      ],
      "metadata": {
        "id": "NnGYp1MTqi5k"
      },
      "execution_count": null,
      "outputs": []
    }
  ]
}