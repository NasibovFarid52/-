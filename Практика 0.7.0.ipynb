{
  "cells": [
    {
      "cell_type": "markdown",
      "metadata": {
        "id": "M9IlAZAPBBm9"
      },
      "source": [
        "Ссылка на материалы:  [пдф тут](https://drive.google.com/file/d/16Cm2tgrpuDH8eIdxdSYyOsfDPqnJ3byd/view?usp=sharing)"
      ]
    },
    {
      "cell_type": "markdown",
      "metadata": {
        "id": "ZLVI_WIcuT56"
      },
      "source": [
        "ФИО:"
      ]
    },
    {
      "cell_type": "code",
      "execution_count": null,
      "metadata": {
        "id": "3AfG_Tal0P2S"
      },
      "outputs": [],
      "source": [
        "Насибов Фарид"
      ]
    },
    {
      "cell_type": "markdown",
      "metadata": {
        "id": "Gtm1UjYgDlY7"
      },
      "source": [
        "## Задание 1. HTTP-запросы, ответы и погода"
      ]
    },
    {
      "cell_type": "markdown",
      "metadata": {
        "id": "FtjnLNIKzfMZ"
      },
      "source": [
        "Описание:\n",
        "\n",
        "Напишите HTTP-запрос для получения информации о погоде в введенном городе из API.\n",
        "\n",
        "Можно использовать API: https://open-meteo.com/. Используйте метод GET.\n",
        "\n",
        "\n",
        "Ввод\n",
        "```\n",
        "56.50, 60.35\n",
        "```\n",
        "\n",
        "Вывод\n",
        "```\n",
        "Сегодня (1.11) погода 20 ◦С, нет осадков, туман\n",
        "```\n",
        "\n",
        "\n",
        "\n"
      ]
    },
    {
      "cell_type": "markdown",
      "metadata": {
        "id": "v3L6mba1KeES"
      },
      "source": []
    },
    {
      "cell_type": "code",
      "execution_count": null,
      "metadata": {
        "colab": {
          "base_uri": "https://localhost:8080/"
        },
        "id": "5Mbs40_buVRV",
        "outputId": "b3af18be-9cfc-4d49-f9ad-2d8261eb8f9b"
      },
      "outputs": [
        {
          "name": "stdout",
          "output_type": "stream",
          "text": [
            "Requirement already satisfied: requests in /usr/local/lib/python3.10/dist-packages (2.32.3)\n",
            "Requirement already satisfied: charset-normalizer<4,>=2 in /usr/local/lib/python3.10/dist-packages (from requests) (3.4.0)\n",
            "Requirement already satisfied: idna<4,>=2.5 in /usr/local/lib/python3.10/dist-packages (from requests) (3.10)\n",
            "Requirement already satisfied: urllib3<3,>=1.21.1 in /usr/local/lib/python3.10/dist-packages (from requests) (2.2.3)\n",
            "Requirement already satisfied: certifi>=2017.4.17 in /usr/local/lib/python3.10/dist-packages (from requests) (2024.8.30)\n"
          ]
        }
      ],
      "source": [
        "pip install requests"
      ]
    },
    {
      "cell_type": "code",
      "execution_count": null,
      "metadata": {
        "colab": {
          "base_uri": "https://localhost:8080/"
        },
        "id": "VgSPYBLAKvkS",
        "outputId": "d2c95625-1520-4367-d88f-1b5ca234dc77"
      },
      "outputs": [
        {
          "name": "stdout",
          "output_type": "stream",
          "text": [
            "Введите ваши координаты:\n",
            "56.50, 60.35\n",
            "Сегодня (1.11) погода 0.9 °C, посмотри в окно\n"
          ]
        }
      ],
      "source": [
        "import requests\n",
        "from datetime import datetime\n",
        "\n",
        "\n",
        "def send_request(url):\n",
        "    response = requests.get(url)\n",
        "    if response.status_code == 200:\n",
        "        return response.json()\n",
        "    else:\n",
        "        print('Response code:', response.status_code)\n",
        "        return False\n",
        "\n",
        "\n",
        "def clear_data(data):\n",
        "\n",
        "    current_date = datetime.today().date()\n",
        "    day = current_date.day\n",
        "    month = current_date.month\n",
        "    current_date = f'{day}.{month}'\n",
        "\n",
        "\n",
        "    temperature = data['current']['temperature_2m']\n",
        "    temperature_format = data['current_units']['temperature_2m']\n",
        "\n",
        "\n",
        "    weather_code = data['current']['weather_code']\n",
        "    bad_weather = [51, 53, 55, 61, 63, 65, 71, 73, 75, 80, 81, 82 ]\n",
        "    if weather_code in [0, 1]:\n",
        "        message = 'нет осадков, ясно'\n",
        "    elif weather_code == 45:\n",
        "        message = 'нет осадков, туман'\n",
        "    elif weather_code in bad_weather:\n",
        "        message = 'осадки, без тумана'\n",
        "    else:\n",
        "        message = 'посмотри в окно'\n",
        "\n",
        "    message = f'Сегодня ({current_date}) погода {temperature} {temperature_format}, {message}'\n",
        "\n",
        "    return message\n",
        "\n",
        "\n",
        "def main():\n",
        "    coordinates = input('Введите ваши координаты:\\n').split(', ')\n",
        "    url = f'https://api.open-meteo.com/v1/forecast?latitude={coordinates[0]}&longitude={coordinates[1]}&current=temperature_2m,weather_code'\n",
        "    data = send_request(url)\n",
        "    print(clear_data(data))\n",
        "\n",
        "\n",
        "if __name__ == '__main__':\n",
        "    main()"
      ]
    },
    {
      "cell_type": "markdown",
      "metadata": {
        "id": "FYjU9WmVDoGs"
      },
      "source": [
        "## Задание 2. HTTP-запросы, ответы и покемоны"
      ]
    },
    {
      "cell_type": "markdown",
      "metadata": {
        "id": "oZ1guEbl0PZm"
      },
      "source": [
        "**Описание:**\n",
        "\n",
        "\n",
        "Создайте код программы, которая будет взаимодействовать с API, со следующим функионалом:\n",
        "\n",
        "1. Используя метод GET, отправьте запрос на endpoint /pokemon, чтобы получить список первых 20 покемонов\n",
        "\n",
        "2. Извлеките имена покемонов из ответа и выведите их списком\n",
        "\n",
        "3. Введите с помощью input() название одного из покемонов\n",
        "\n",
        "\n",
        "```\n",
        "Имя покемона: clefairy\n",
        "```\n",
        "\n",
        "\n",
        "\n",
        "4. Отправьте GET-запрос, чтобы получить полную информацию о выбранном покемоне\n",
        "\n",
        "5. Извлеките и выведите следующие данные о введенном покемоне:\n",
        "\n",
        "     • Имя\n",
        "\n",
        "     • Тип\n",
        "\n",
        "     • Вес\n",
        "\n",
        "     • Рост\n",
        "\n",
        "     • Способности\n",
        "\n",
        "Используйте PokéAPI (https://pokeapi.co/), который предоставляет информацию о покемонах, их характеристиках, типах и другую информацию."
      ]
    },
    {
      "cell_type": "code",
      "execution_count": null,
      "metadata": {
        "colab": {
          "base_uri": "https://localhost:8080/",
          "height": 694
        },
        "id": "JkFmivjp25NL",
        "outputId": "79491b5a-c7d5-4f8c-cf98-2da3697682b1"
      },
      "outputs": [
        {
          "name": "stdout",
          "output_type": "stream",
          "text": [
            "bulbasaur\n",
            "ivysaur\n",
            "venusaur\n",
            "charmander\n",
            "charmeleon\n",
            "charizard\n",
            "squirtle\n",
            "wartortle\n",
            "blastoise\n",
            "caterpie\n",
            "metapod\n",
            "butterfree\n",
            "weedle\n",
            "kakuna\n",
            "beedrill\n",
            "pidgey\n",
            "pidgeotto\n",
            "pidgeot\n",
            "rattata\n",
            "raticate\n",
            "Выбери покемона из списка - pidgeot\n"
          ]
        },
        {
          "ename": "UnboundLocalError",
          "evalue": "local variable 'data2' referenced before assignment",
          "output_type": "error",
          "traceback": [
            "\u001b[0;31m---------------------------------------------------------------------------\u001b[0m",
            "\u001b[0;31mUnboundLocalError\u001b[0m                         Traceback (most recent call last)",
            "\u001b[0;32m<ipython-input-2-54cb70065fc5>\u001b[0m in \u001b[0;36m<cell line: 41>\u001b[0;34m()\u001b[0m\n\u001b[1;32m     39\u001b[0m \u001b[0murl2\u001b[0m \u001b[0;34m=\u001b[0m \u001b[0;34mf'https://pokeapi.co/api/v2/pokemon/{pokemon}'\u001b[0m\u001b[0;34m\u001b[0m\u001b[0;34m\u001b[0m\u001b[0m\n\u001b[1;32m     40\u001b[0m \u001b[0mdata2\u001b[0m \u001b[0;34m=\u001b[0m \u001b[0msend_request2\u001b[0m\u001b[0;34m(\u001b[0m\u001b[0murl2\u001b[0m\u001b[0;34m)\u001b[0m\u001b[0;34m\u001b[0m\u001b[0;34m\u001b[0m\u001b[0m\n\u001b[0;32m---> 41\u001b[0;31m \u001b[0mpick_pokemon\u001b[0m\u001b[0;34m(\u001b[0m\u001b[0mpokemon\u001b[0m\u001b[0;34m)\u001b[0m\u001b[0;34m\u001b[0m\u001b[0;34m\u001b[0m\u001b[0m\n\u001b[0m",
            "\u001b[0;32m<ipython-input-2-54cb70065fc5>\u001b[0m in \u001b[0;36mpick_pokemon\u001b[0;34m(pokemon)\u001b[0m\n\u001b[1;32m     27\u001b[0m \u001b[0;34m\u001b[0m\u001b[0m\n\u001b[1;32m     28\u001b[0m \u001b[0;32mdef\u001b[0m \u001b[0mpick_pokemon\u001b[0m\u001b[0;34m(\u001b[0m\u001b[0mpokemon\u001b[0m\u001b[0;34m)\u001b[0m\u001b[0;34m:\u001b[0m\u001b[0;34m\u001b[0m\u001b[0;34m\u001b[0m\u001b[0m\n\u001b[0;32m---> 29\u001b[0;31m   \u001b[0mdata2\u001b[0m \u001b[0;34m=\u001b[0m \u001b[0mdata2\u001b[0m\u001b[0;34m[\u001b[0m\u001b[0;34m''\u001b[0m\u001b[0;34m]\u001b[0m\u001b[0;34m\u001b[0m\u001b[0;34m\u001b[0m\u001b[0m\n\u001b[0m\u001b[1;32m     30\u001b[0m \u001b[0;34m\u001b[0m\u001b[0m\n\u001b[1;32m     31\u001b[0m \u001b[0;34m\u001b[0m\u001b[0m\n",
            "\u001b[0;31mUnboundLocalError\u001b[0m: local variable 'data2' referenced before assignment"
          ]
        }
      ],
      "source": [
        "import requests\n",
        "\n",
        "\n",
        "def send_request(url):\n",
        "    response = requests.get(url)\n",
        "    if response.status_code == 200:\n",
        "        return response.json()\n",
        "    else:\n",
        "        print('Response code:', response.status_code)\n",
        "        return False\n",
        "\n",
        "\n",
        "def pokemon_name(data):\n",
        "  data = data['results']\n",
        "  for el in data:\n",
        "    print(el['name'])\n",
        "\n",
        "\n",
        "def send_request2(url2):\n",
        "    response2 = requests.get(url2)\n",
        "    if response2.status_code == 200:\n",
        "        return response2.json()\n",
        "    else:\n",
        "        print('Response code:', response2.status_code)\n",
        "        return False\n",
        "\n",
        "\n",
        "def pick_pokemon(pokemon):\n",
        "  data2 = data2['']\n",
        "\n",
        "\n",
        "url = 'https://pokeapi.co/api/v2/pokemon/'\n",
        "\n",
        "\n",
        "data = send_request(url)\n",
        "pokemon_name(data)\n",
        "\n",
        "pokemon = input('Выбери покемона из списка - ')\n",
        "url2 = f'https://pokeapi.co/api/v2/pokemon/{pokemon}'\n",
        "data2 = send_request2(url2)\n",
        "pick_pokemon(pokemon)"
      ]
    },
    {
      "cell_type": "markdown",
      "metadata": {
        "id": "Ci07uZdADue9"
      },
      "source": [
        "## Задание 3. HTTP-запросы, ответы и посты"
      ]
    },
    {
      "cell_type": "markdown",
      "metadata": {
        "id": "h194KTer1-B3"
      },
      "source": [
        "**Описание:**\n",
        "\n",
        "Создайте программу, которая будет взаимодействовать с JSONPlaceholder API, реализуя следующие функции:\n",
        "\n",
        "1. Реализуйте функцию, которая выполняет GET-запрос к https://jsonplaceholder.typicode.com/posts и возвращает список постов в формате JSON\n",
        "\n",
        "2. Реализуйте функцию, котороая получает вводимое ID поста, выполняет GET-запрос по ID и возвращает данные поста в формате JSON\n",
        "\n",
        "3. Реализуйте функцию, которая выполняет обработку JSON из пункта 2 и выводит всю важную информацию в консоль"
      ]
    },
    {
      "cell_type": "code",
      "execution_count": null,
      "metadata": {
        "colab": {
          "base_uri": "https://localhost:8080/"
        },
        "id": "YANQx4o258Zn",
        "outputId": "6c3182ac-e590-4bdb-9ae4-a907e06def26"
      },
      "outputs": [
        {
          "name": "stdout",
          "output_type": "stream",
          "text": [
            "Введите id - 1\n",
            "userId : 1\n",
            "id : 1\n",
            "title : sunt aut facere repellat provident occaecati excepturi optio reprehenderit\n",
            "body : quia et suscipit\n",
            "suscipit recusandae consequuntur expedita et cum\n",
            "reprehenderit molestiae ut ut quas totam\n",
            "nostrum rerum est autem sunt rem eveniet architecto\n",
            "None\n"
          ]
        }
      ],
      "source": [
        "import requests\n",
        "\n",
        "\n",
        "def send_request(url):\n",
        "    response = requests.get(url)\n",
        "    if response.status_code == 200:\n",
        "        return response.json()\n",
        "    else:\n",
        "        print('Response code:', response.status_code)\n",
        "        return False\n",
        "\n",
        "\n",
        "def get_post(post_url):\n",
        "  response = requests.get(post_url)\n",
        "  if response.status_code == 200:\n",
        "    return response.json()\n",
        "  else:\n",
        "    print('Response code:', response.status_code)\n",
        "    return False\n",
        "\n",
        "\n",
        "def clear_data(post):\n",
        "  for key in post:\n",
        "    print(f'{key} : {post[key]}')\n",
        "\n",
        "\n",
        "id = int(input('Введите id - '))\n",
        "url = 'https://jsonplaceholder.typicode.com/posts'\n",
        "post_url = f'https://jsonplaceholder.typicode.com/posts/{id}'\n",
        "post = get_post(post_url)\n",
        "print(clear_data(post))\n",
        "\n",
        "\n",
        "\n",
        "\n",
        "\n"
      ]
    },
    {
      "cell_type": "markdown",
      "metadata": {
        "id": "rtwepQvJDy9N"
      },
      "source": [
        "## Задание 4. HTTP-запросы, ответы и работа с постами"
      ]
    },
    {
      "cell_type": "markdown",
      "metadata": {
        "id": "4MjiaxDM58ta"
      },
      "source": [
        "**Описание**\n",
        "\n",
        "Создайте программу, которая будет взаимодействовать с JSONPlaceholder API (из предыдущего задания), реализуя новые функции:\n",
        "\n",
        "1. Реализуйте функцию, которая принимает заголовок, содержимое и ID пользователя (информация вводится с помощью input()), выполняет POST-запрос для создания нового поста и возвращает информацию о созданном посте в формате JSON\n",
        "\n",
        "\n",
        "```\n",
        "Заголовок: Новый пост\n",
        "Содержимое поста: Тут должно находиться содержимое нового поста...\n",
        "ID пользователя: 10\n",
        "```\n",
        "\n",
        "\n",
        "\n",
        "2. Реализуйте функцию, которая принимает ID поста, новый заголовок и новое содержимое, выполняет PUT-запрос и возвращает обновлённый пост в формате JSON\n",
        "\n",
        "3. Реализуйте функцию, которая принимает ID поста, выполняет DELETE-запрос и возвращает статус-код ответа"
      ]
    },
    {
      "cell_type": "code",
      "execution_count": null,
      "metadata": {
        "colab": {
          "base_uri": "https://localhost:8080/"
        },
        "id": "jZUIdwq96DNl",
        "outputId": "7ef34949-7bb0-47b8-8464-8919e98fda79"
      },
      "outputs": [
        {
          "name": "stdout",
          "output_type": "stream",
          "text": [
            "Заголовок - 1\n",
            "Содержимое поста - 2\n",
            "ID пользователя - 3\n",
            "{'Заголовок': '1', 'Содержимое поста': '2', 'ID пользователя': 3, 'id': 101}\n",
            "ID поста для обновления - 1\n",
            "Заголовок - 1\n",
            "Содержимое поста - 2\n",
            "{'title': '1', 'body': '2', 'id': 1}\n"
          ]
        }
      ],
      "source": [
        "import requests\n",
        "\n",
        "\n",
        "def create_post(url, tittle, body, user_id):\n",
        "  data = {'Заголовок': tittle, 'Содержимое поста': body, 'ID пользователя': user_id}\n",
        "  response = requests.post(url, json=data)\n",
        "  return response.json()\n",
        "\n",
        "\n",
        "def update_post(id, tittle, body):\n",
        "  url = f'https://jsonplaceholder.typicode.com/posts/{id}'\n",
        "  data = {'title': tittle, 'body': body}\n",
        "  response = requests.put(url, json=data)\n",
        "  3return response.json()\n",
        "\n",
        "\n",
        "tittle = input(\"Заголовок - \")\n",
        "body = input(\"Содержимое поста - \")\n",
        "user_id = int(input(\"ID пользователя - \"))\n",
        "\n",
        "\n",
        "url = 'https://jsonplaceholder.typicode.com/posts'\n",
        "print(create_post(url, tittle, body, user_id))\n",
        "id = int(input(\"ID поста для обновления - \"))\n",
        "new_tittle = input(\"Заголовок - \")\n",
        "new_body = input(\"Содержимое поста - \")\n",
        "print(update_post(id, new_tittle, new_body))"
      ]
    },
    {
      "cell_type": "markdown",
      "metadata": {
        "id": "0UoRc9vOD3XT"
      },
      "source": [
        "## Задание 5. HTTP-запросы, ответы и пёсики"
      ]
    },
    {
      "cell_type": "markdown",
      "metadata": {
        "id": "y0EyPsFQ6mSZ"
      },
      "source": [
        "**Описание**\n",
        "\n",
        "Создайте программу, которая будет взаимодействовать с Dog API, которая позволит получать список пород собак, вводить несколько пород и получать их фотогрфии.\n",
        "\n",
        "Этапы:\n",
        "\n",
        "1. Создайте функцию, которая использует метод GET и возвращает список всех пород собак в формате нумерованного списка\n",
        "\n",
        "2. Реализуйте возможность ввода нескольких пород собак через запятую\n",
        "\n",
        "\n",
        "```\n",
        "african, chow, dingo\n",
        "```\n",
        "\n",
        "\n",
        "\n",
        "3. Создание функции, которая реализует запрос, возвращает и выводит изображениия собак, породы которых были введены до этого\n",
        "\n",
        "\n",
        "Используйте Dog API (https://dog.ceo/dog-api/), который предоставляет информацию о породах собак и их изображения.\n"
      ]
    },
    {
      "cell_type": "markdown",
      "metadata": {
        "id": "yrKv5k13AKEP"
      },
      "source": [
        "*Подсказка*\n",
        "\n",
        "\n",
        "\n",
        "```\n",
        "import requests\n",
        "from PIL import Image\n",
        "from IPython.display import display\n",
        "import io\n",
        "\n",
        "url = <____>\n",
        "response = <____>\n",
        "        \n",
        "if response.<______> == <___>:\n",
        "      image_url = response.json()['message']\n",
        "\n",
        "res = requests.<__>(image_url)\n",
        "img = Image.open(io.BytesIO(res.content))\n",
        "display(img)\n",
        "```\n",
        "\n"
      ]
    },
    {
      "cell_type": "code",
      "execution_count": null,
      "metadata": {
        "colab": {
          "background_save": true,
          "base_uri": "https://localhost:8080/",
          "height": 371
        },
        "id": "5xti3KRP4Kzp",
        "outputId": "95265eac-01a6-46fa-b10f-7854cfff025a"
      },
      "outputs": [],
      "source": [
        "import requests\n",
        "from PIL import Image\n",
        "from IPython.display import display\n",
        "import io\n",
        "\n",
        "\n",
        "def get_dogs(url):\n",
        "  dogs_list = requests.get(url).json()['message']\n",
        "  number = 1\n",
        "  for dog in dogs_list:\n",
        "    print(f'{number}. {dog}')\n",
        "    number += 1\n",
        "\n",
        "\n",
        "def image_dog(url, dogs):\n",
        "  for dog in dogs:\n",
        "    response = requests.get(f\"{url}/{dog}/images/random\")\n",
        "    image_url = ''\n",
        "    print(response.status_code)\n",
        "    if response.status_code == 200:\n",
        "          image_url = response.json()['message']\n",
        "    res = requests.get(image_url)\n",
        "    img = Image.open(io.BytesIO(res.content))\n",
        "    display(img)\n",
        "\n",
        "\n",
        "dogs = list(map(str, input().split(\", \")))\n",
        "url = 'https://dog.ceo/api/breeds/list/all'\n",
        "url2 = 'https://dog.ceo/api/breed/'\n",
        "#print(get_dogs(url))\n",
        "print(image_dog(url2, dogs))"
      ]
    }
  ],
  "metadata": {
    "colab": {
      "collapsed_sections": [
        "Ci07uZdADue9",
        "rtwepQvJDy9N"
      ],
      "provenance": []
    },
    "kernelspec": {
      "display_name": "Python 3",
      "name": "python3"
    },
    "language_info": {
      "name": "python"
    }
  },
  "nbformat": 4,
  "nbformat_minor": 0
}